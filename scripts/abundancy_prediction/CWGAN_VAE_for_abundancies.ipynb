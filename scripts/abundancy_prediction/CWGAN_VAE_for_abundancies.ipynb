{
  "nbformat": 4,
  "nbformat_minor": 0,
  "metadata": {
    "colab": {
      "provenance": []
    },
    "kernelspec": {
      "name": "python3",
      "display_name": "Python 3"
    },
    "language_info": {
      "name": "python"
    }
  },
  "cells": [
    {
      "cell_type": "markdown",
      "source": [
        "Essential imports:"
      ],
      "metadata": {
        "id": "RVyxodRwXq2T"
      }
    },
    {
      "cell_type": "code",
      "source": [
        "import numpy as np\n",
        "import pandas as pd\n",
        "\n",
        "import torch\n",
        "import torch.nn as nn\n",
        "import torch.optim as optim\n",
        "import torch.nn.functional as F\n",
        "from torch.utils.data import TensorDataset, DataLoader\n",
        "from torch.autograd import Variable\n",
        "\n",
        "from sklearn.model_selection import train_test_split\n",
        "from sklearn.preprocessing import StandardScaler\n",
        "\n",
        "import matplotlib.pyplot as plt\n",
        "import seaborn as sns\n",
        "\n",
        "from sklearn.ensemble import GradientBoostingClassifier\n",
        "from sklearn.metrics import roc_auc_score\n",
        "\n",
        "DEVICE = torch.device(\"cuda\" if torch.cuda.is_available() else \"cpu\")\n",
        "SEED = 11\n",
        "rng = np.random.RandomState(SEED)"
      ],
      "metadata": {
        "id": "QzfO-6LMXHka"
      },
      "execution_count": null,
      "outputs": []
    },
    {
      "cell_type": "code",
      "source": [
        "def plot_hists(X1, X2, names, label1, label2, bins=np.linspace(-3, 3, 61)):\n",
        "    plt.figure(figsize=(20*2, 20))\n",
        "    for i in range(X1.shape[1]):\n",
        "        plt.subplot(3, 4, i+1)\n",
        "        plt.hist(X1[:, i], bins=bins, alpha=0.5, label=label1, color='C0')\n",
        "        plt.hist(X2[:, i], bins=bins, alpha=0.5, label=label2, color='C1')\n",
        "        plt.xlabel(names[i], size=14)\n",
        "        plt.legend(loc='best')\n",
        "    plt.tight_layout()"
      ],
      "metadata": {
        "id": "Z93uxaKf6rzw"
      },
      "execution_count": null,
      "outputs": []
    },
    {
      "cell_type": "markdown",
      "source": [
        "# Data preparation"
      ],
      "metadata": {
        "id": "jeZNpgJsz2uw"
      }
    },
    {
      "cell_type": "markdown",
      "source": [
        "## 1. Toy data with numbers:"
      ],
      "metadata": {
        "id": "3-jrbL5Rd1RK"
      }
    },
    {
      "cell_type": "code",
      "source": [
        "num_samples_per_class = 100\n",
        "batch_size = 32\n",
        "\n",
        "# Define the samples and their labels\n",
        "class1_samples = np.random.normal(loc=0.0, scale=1.0, size=(num_samples_per_class, 2))\n",
        "class2_samples = np.random.normal(loc=5.0, scale=1.0, size=(num_samples_per_class, 2))\n",
        "\n",
        "# Construct the sample_class_table (we can later encode it to bacteria species ids)\n",
        "# Here we have 2 classes (=groups) and 2 features for each sample\n",
        "# (we can say, bacteria species and it's abundancy)\n",
        "\n",
        "sample_class_table = np.concatenate((class1_samples, class2_samples))\n",
        "df = pd.DataFrame(sample_class_table, columns=['f1', 'f2'])\n",
        "df['class'] = [0]*len(class1_samples) + [1]*len(class2_samples)\n",
        "df"
      ],
      "metadata": {
        "colab": {
          "base_uri": "https://localhost:8080/",
          "height": 423
        },
        "id": "p4QmkjG4Cnl6",
        "outputId": "c4842565-1e7f-4867-ef3e-ad95ac15c2c3"
      },
      "execution_count": null,
      "outputs": [
        {
          "output_type": "execute_result",
          "data": {
            "text/plain": [
              "           f1        f2  class\n",
              "0   -1.719394 -1.140627      0\n",
              "1    0.957289 -0.252501      0\n",
              "2    0.806790 -0.446395      0\n",
              "3   -0.560682 -0.007400      0\n",
              "4   -0.263161 -1.861102      0\n",
              "..        ...       ...    ...\n",
              "195  4.235300  5.768848      1\n",
              "196  5.546209  5.318938      1\n",
              "197  3.391373  4.461420      1\n",
              "198  6.077773  4.571945      1\n",
              "199  5.226730  4.008881      1\n",
              "\n",
              "[200 rows x 3 columns]"
            ],
            "text/html": [
              "\n",
              "  <div id=\"df-565396d3-6ac7-4a1f-8f37-29626bc84891\">\n",
              "    <div class=\"colab-df-container\">\n",
              "      <div>\n",
              "<style scoped>\n",
              "    .dataframe tbody tr th:only-of-type {\n",
              "        vertical-align: middle;\n",
              "    }\n",
              "\n",
              "    .dataframe tbody tr th {\n",
              "        vertical-align: top;\n",
              "    }\n",
              "\n",
              "    .dataframe thead th {\n",
              "        text-align: right;\n",
              "    }\n",
              "</style>\n",
              "<table border=\"1\" class=\"dataframe\">\n",
              "  <thead>\n",
              "    <tr style=\"text-align: right;\">\n",
              "      <th></th>\n",
              "      <th>f1</th>\n",
              "      <th>f2</th>\n",
              "      <th>class</th>\n",
              "    </tr>\n",
              "  </thead>\n",
              "  <tbody>\n",
              "    <tr>\n",
              "      <th>0</th>\n",
              "      <td>-1.719394</td>\n",
              "      <td>-1.140627</td>\n",
              "      <td>0</td>\n",
              "    </tr>\n",
              "    <tr>\n",
              "      <th>1</th>\n",
              "      <td>0.957289</td>\n",
              "      <td>-0.252501</td>\n",
              "      <td>0</td>\n",
              "    </tr>\n",
              "    <tr>\n",
              "      <th>2</th>\n",
              "      <td>0.806790</td>\n",
              "      <td>-0.446395</td>\n",
              "      <td>0</td>\n",
              "    </tr>\n",
              "    <tr>\n",
              "      <th>3</th>\n",
              "      <td>-0.560682</td>\n",
              "      <td>-0.007400</td>\n",
              "      <td>0</td>\n",
              "    </tr>\n",
              "    <tr>\n",
              "      <th>4</th>\n",
              "      <td>-0.263161</td>\n",
              "      <td>-1.861102</td>\n",
              "      <td>0</td>\n",
              "    </tr>\n",
              "    <tr>\n",
              "      <th>...</th>\n",
              "      <td>...</td>\n",
              "      <td>...</td>\n",
              "      <td>...</td>\n",
              "    </tr>\n",
              "    <tr>\n",
              "      <th>195</th>\n",
              "      <td>4.235300</td>\n",
              "      <td>5.768848</td>\n",
              "      <td>1</td>\n",
              "    </tr>\n",
              "    <tr>\n",
              "      <th>196</th>\n",
              "      <td>5.546209</td>\n",
              "      <td>5.318938</td>\n",
              "      <td>1</td>\n",
              "    </tr>\n",
              "    <tr>\n",
              "      <th>197</th>\n",
              "      <td>3.391373</td>\n",
              "      <td>4.461420</td>\n",
              "      <td>1</td>\n",
              "    </tr>\n",
              "    <tr>\n",
              "      <th>198</th>\n",
              "      <td>6.077773</td>\n",
              "      <td>4.571945</td>\n",
              "      <td>1</td>\n",
              "    </tr>\n",
              "    <tr>\n",
              "      <th>199</th>\n",
              "      <td>5.226730</td>\n",
              "      <td>4.008881</td>\n",
              "      <td>1</td>\n",
              "    </tr>\n",
              "  </tbody>\n",
              "</table>\n",
              "<p>200 rows × 3 columns</p>\n",
              "</div>\n",
              "      <button class=\"colab-df-convert\" onclick=\"convertToInteractive('df-565396d3-6ac7-4a1f-8f37-29626bc84891')\"\n",
              "              title=\"Convert this dataframe to an interactive table.\"\n",
              "              style=\"display:none;\">\n",
              "        \n",
              "  <svg xmlns=\"http://www.w3.org/2000/svg\" height=\"24px\"viewBox=\"0 0 24 24\"\n",
              "       width=\"24px\">\n",
              "    <path d=\"M0 0h24v24H0V0z\" fill=\"none\"/>\n",
              "    <path d=\"M18.56 5.44l.94 2.06.94-2.06 2.06-.94-2.06-.94-.94-2.06-.94 2.06-2.06.94zm-11 1L8.5 8.5l.94-2.06 2.06-.94-2.06-.94L8.5 2.5l-.94 2.06-2.06.94zm10 10l.94 2.06.94-2.06 2.06-.94-2.06-.94-.94-2.06-.94 2.06-2.06.94z\"/><path d=\"M17.41 7.96l-1.37-1.37c-.4-.4-.92-.59-1.43-.59-.52 0-1.04.2-1.43.59L10.3 9.45l-7.72 7.72c-.78.78-.78 2.05 0 2.83L4 21.41c.39.39.9.59 1.41.59.51 0 1.02-.2 1.41-.59l7.78-7.78 2.81-2.81c.8-.78.8-2.07 0-2.86zM5.41 20L4 18.59l7.72-7.72 1.47 1.35L5.41 20z\"/>\n",
              "  </svg>\n",
              "      </button>\n",
              "      \n",
              "  <style>\n",
              "    .colab-df-container {\n",
              "      display:flex;\n",
              "      flex-wrap:wrap;\n",
              "      gap: 12px;\n",
              "    }\n",
              "\n",
              "    .colab-df-convert {\n",
              "      background-color: #E8F0FE;\n",
              "      border: none;\n",
              "      border-radius: 50%;\n",
              "      cursor: pointer;\n",
              "      display: none;\n",
              "      fill: #1967D2;\n",
              "      height: 32px;\n",
              "      padding: 0 0 0 0;\n",
              "      width: 32px;\n",
              "    }\n",
              "\n",
              "    .colab-df-convert:hover {\n",
              "      background-color: #E2EBFA;\n",
              "      box-shadow: 0px 1px 2px rgba(60, 64, 67, 0.3), 0px 1px 3px 1px rgba(60, 64, 67, 0.15);\n",
              "      fill: #174EA6;\n",
              "    }\n",
              "\n",
              "    [theme=dark] .colab-df-convert {\n",
              "      background-color: #3B4455;\n",
              "      fill: #D2E3FC;\n",
              "    }\n",
              "\n",
              "    [theme=dark] .colab-df-convert:hover {\n",
              "      background-color: #434B5C;\n",
              "      box-shadow: 0px 1px 3px 1px rgba(0, 0, 0, 0.15);\n",
              "      filter: drop-shadow(0px 1px 2px rgba(0, 0, 0, 0.3));\n",
              "      fill: #FFFFFF;\n",
              "    }\n",
              "  </style>\n",
              "\n",
              "      <script>\n",
              "        const buttonEl =\n",
              "          document.querySelector('#df-565396d3-6ac7-4a1f-8f37-29626bc84891 button.colab-df-convert');\n",
              "        buttonEl.style.display =\n",
              "          google.colab.kernel.accessAllowed ? 'block' : 'none';\n",
              "\n",
              "        async function convertToInteractive(key) {\n",
              "          const element = document.querySelector('#df-565396d3-6ac7-4a1f-8f37-29626bc84891');\n",
              "          const dataTable =\n",
              "            await google.colab.kernel.invokeFunction('convertToInteractive',\n",
              "                                                     [key], {});\n",
              "          if (!dataTable) return;\n",
              "\n",
              "          const docLinkHtml = 'Like what you see? Visit the ' +\n",
              "            '<a target=\"_blank\" href=https://colab.research.google.com/notebooks/data_table.ipynb>data table notebook</a>'\n",
              "            + ' to learn more about interactive tables.';\n",
              "          element.innerHTML = '';\n",
              "          dataTable['output_type'] = 'display_data';\n",
              "          await google.colab.output.renderOutput(dataTable, element);\n",
              "          const docLink = document.createElement('div');\n",
              "          docLink.innerHTML = docLinkHtml;\n",
              "          element.appendChild(docLink);\n",
              "        }\n",
              "      </script>\n",
              "    </div>\n",
              "  </div>\n",
              "  "
            ]
          },
          "metadata": {},
          "execution_count": 50
        }
      ]
    },
    {
      "cell_type": "code",
      "source": [
        "X, y = df[['f1', 'f2']].to_numpy(), df[['class']].to_numpy()"
      ],
      "metadata": {
        "id": "FezjlcbaVevX"
      },
      "execution_count": null,
      "outputs": []
    },
    {
      "cell_type": "markdown",
      "source": [
        "## 2. Toy data from bacteria samples:"
      ],
      "metadata": {
        "id": "YxBHq7qZ_TbN"
      }
    },
    {
      "cell_type": "markdown",
      "source": [
        "Here we will use file with top-50 bacterial species from healthy, diabetes and diarrhea metagenomes."
      ],
      "metadata": {
        "id": "L9KhH6G8d6cS"
      }
    },
    {
      "cell_type": "code",
      "source": [
        "!wget https://raw.githubusercontent.com/checheanya/metagenome_stufff/main/data/abundance_3groups_top50.csv?token=GHSAT0AAAAAACAJWMYYAFSL5P52CVN5LTTMZA2HNGA"
      ],
      "metadata": {
        "colab": {
          "base_uri": "https://localhost:8080/"
        },
        "id": "VWMqN-WvUkWF",
        "outputId": "e26d6539-d8b5-4787-f05c-e6df4a8736ff"
      },
      "execution_count": null,
      "outputs": [
        {
          "output_type": "stream",
          "name": "stdout",
          "text": [
            "--2023-03-21 23:18:04--  https://raw.githubusercontent.com/checheanya/metagenome_stufff/main/data/abundance_3groups_top50.csv?token=GHSAT0AAAAAACAJWMYYAFSL5P52CVN5LTTMZA2HNGA\n",
            "Resolving raw.githubusercontent.com (raw.githubusercontent.com)... 185.199.110.133, 185.199.108.133, 185.199.111.133, ...\n",
            "Connecting to raw.githubusercontent.com (raw.githubusercontent.com)|185.199.110.133|:443... connected.\n",
            "HTTP request sent, awaiting response... 200 OK\n",
            "Length: 6713 (6.6K) [text/plain]\n",
            "Saving to: ‘abundance_3groups_top50.csv?token=GHSAT0AAAAAACAJWMYYAFSL5P52CVN5LTTMZA2HNGA’\n",
            "\n",
            "\r          abundance   0%[                    ]       0  --.-KB/s               \rabundance_3groups_t 100%[===================>]   6.56K  --.-KB/s    in 0s      \n",
            "\n",
            "2023-03-21 23:18:05 (54.3 MB/s) - ‘abundance_3groups_top50.csv?token=GHSAT0AAAAAACAJWMYYAFSL5P52CVN5LTTMZA2HNGA’ saved [6713/6713]\n",
            "\n"
          ]
        }
      ]
    },
    {
      "cell_type": "code",
      "source": [
        "!mv abundance_3groups_top50.csv?token=GHSAT0AAAAAACAJWMYYAFSL5P52CVN5LTTMZA2HNGA abundance_top50"
      ],
      "metadata": {
        "id": "tjgDsA11eTlt"
      },
      "execution_count": null,
      "outputs": []
    },
    {
      "cell_type": "code",
      "source": [
        "data = pd.read_csv('abundance_top50')"
      ],
      "metadata": {
        "id": "GBHjfwgMK5du"
      },
      "execution_count": null,
      "outputs": []
    },
    {
      "cell_type": "code",
      "source": [
        "data.head()"
      ],
      "metadata": {
        "colab": {
          "base_uri": "https://localhost:8080/",
          "height": 206
        },
        "id": "yafoZwbwemCw",
        "outputId": "908fb281-e545-49f6-ca65-a95f0b1be2eb"
      },
      "execution_count": null,
      "outputs": [
        {
          "output_type": "execute_result",
          "data": {
            "text/plain": [
              "                     bacteria  abundance     group\n",
              "0  Nocardiopsis ganjiahuensis   5.040580  diabetes\n",
              "1        Nocardiopsis listeri   1.799440  diabetes\n",
              "2    Sphingobacterium faecium   1.748656  diabetes\n",
              "3  Parabacteroides distasonis   1.667293  diabetes\n",
              "4          Bacteroides ovatus   1.331201  diabetes"
            ],
            "text/html": [
              "\n",
              "  <div id=\"df-a0df0907-ca57-4e8e-a5a1-fa5f4e61a31a\">\n",
              "    <div class=\"colab-df-container\">\n",
              "      <div>\n",
              "<style scoped>\n",
              "    .dataframe tbody tr th:only-of-type {\n",
              "        vertical-align: middle;\n",
              "    }\n",
              "\n",
              "    .dataframe tbody tr th {\n",
              "        vertical-align: top;\n",
              "    }\n",
              "\n",
              "    .dataframe thead th {\n",
              "        text-align: right;\n",
              "    }\n",
              "</style>\n",
              "<table border=\"1\" class=\"dataframe\">\n",
              "  <thead>\n",
              "    <tr style=\"text-align: right;\">\n",
              "      <th></th>\n",
              "      <th>bacteria</th>\n",
              "      <th>abundance</th>\n",
              "      <th>group</th>\n",
              "    </tr>\n",
              "  </thead>\n",
              "  <tbody>\n",
              "    <tr>\n",
              "      <th>0</th>\n",
              "      <td>Nocardiopsis ganjiahuensis</td>\n",
              "      <td>5.040580</td>\n",
              "      <td>diabetes</td>\n",
              "    </tr>\n",
              "    <tr>\n",
              "      <th>1</th>\n",
              "      <td>Nocardiopsis listeri</td>\n",
              "      <td>1.799440</td>\n",
              "      <td>diabetes</td>\n",
              "    </tr>\n",
              "    <tr>\n",
              "      <th>2</th>\n",
              "      <td>Sphingobacterium faecium</td>\n",
              "      <td>1.748656</td>\n",
              "      <td>diabetes</td>\n",
              "    </tr>\n",
              "    <tr>\n",
              "      <th>3</th>\n",
              "      <td>Parabacteroides distasonis</td>\n",
              "      <td>1.667293</td>\n",
              "      <td>diabetes</td>\n",
              "    </tr>\n",
              "    <tr>\n",
              "      <th>4</th>\n",
              "      <td>Bacteroides ovatus</td>\n",
              "      <td>1.331201</td>\n",
              "      <td>diabetes</td>\n",
              "    </tr>\n",
              "  </tbody>\n",
              "</table>\n",
              "</div>\n",
              "      <button class=\"colab-df-convert\" onclick=\"convertToInteractive('df-a0df0907-ca57-4e8e-a5a1-fa5f4e61a31a')\"\n",
              "              title=\"Convert this dataframe to an interactive table.\"\n",
              "              style=\"display:none;\">\n",
              "        \n",
              "  <svg xmlns=\"http://www.w3.org/2000/svg\" height=\"24px\"viewBox=\"0 0 24 24\"\n",
              "       width=\"24px\">\n",
              "    <path d=\"M0 0h24v24H0V0z\" fill=\"none\"/>\n",
              "    <path d=\"M18.56 5.44l.94 2.06.94-2.06 2.06-.94-2.06-.94-.94-2.06-.94 2.06-2.06.94zm-11 1L8.5 8.5l.94-2.06 2.06-.94-2.06-.94L8.5 2.5l-.94 2.06-2.06.94zm10 10l.94 2.06.94-2.06 2.06-.94-2.06-.94-.94-2.06-.94 2.06-2.06.94z\"/><path d=\"M17.41 7.96l-1.37-1.37c-.4-.4-.92-.59-1.43-.59-.52 0-1.04.2-1.43.59L10.3 9.45l-7.72 7.72c-.78.78-.78 2.05 0 2.83L4 21.41c.39.39.9.59 1.41.59.51 0 1.02-.2 1.41-.59l7.78-7.78 2.81-2.81c.8-.78.8-2.07 0-2.86zM5.41 20L4 18.59l7.72-7.72 1.47 1.35L5.41 20z\"/>\n",
              "  </svg>\n",
              "      </button>\n",
              "      \n",
              "  <style>\n",
              "    .colab-df-container {\n",
              "      display:flex;\n",
              "      flex-wrap:wrap;\n",
              "      gap: 12px;\n",
              "    }\n",
              "\n",
              "    .colab-df-convert {\n",
              "      background-color: #E8F0FE;\n",
              "      border: none;\n",
              "      border-radius: 50%;\n",
              "      cursor: pointer;\n",
              "      display: none;\n",
              "      fill: #1967D2;\n",
              "      height: 32px;\n",
              "      padding: 0 0 0 0;\n",
              "      width: 32px;\n",
              "    }\n",
              "\n",
              "    .colab-df-convert:hover {\n",
              "      background-color: #E2EBFA;\n",
              "      box-shadow: 0px 1px 2px rgba(60, 64, 67, 0.3), 0px 1px 3px 1px rgba(60, 64, 67, 0.15);\n",
              "      fill: #174EA6;\n",
              "    }\n",
              "\n",
              "    [theme=dark] .colab-df-convert {\n",
              "      background-color: #3B4455;\n",
              "      fill: #D2E3FC;\n",
              "    }\n",
              "\n",
              "    [theme=dark] .colab-df-convert:hover {\n",
              "      background-color: #434B5C;\n",
              "      box-shadow: 0px 1px 3px 1px rgba(0, 0, 0, 0.15);\n",
              "      filter: drop-shadow(0px 1px 2px rgba(0, 0, 0, 0.3));\n",
              "      fill: #FFFFFF;\n",
              "    }\n",
              "  </style>\n",
              "\n",
              "      <script>\n",
              "        const buttonEl =\n",
              "          document.querySelector('#df-a0df0907-ca57-4e8e-a5a1-fa5f4e61a31a button.colab-df-convert');\n",
              "        buttonEl.style.display =\n",
              "          google.colab.kernel.accessAllowed ? 'block' : 'none';\n",
              "\n",
              "        async function convertToInteractive(key) {\n",
              "          const element = document.querySelector('#df-a0df0907-ca57-4e8e-a5a1-fa5f4e61a31a');\n",
              "          const dataTable =\n",
              "            await google.colab.kernel.invokeFunction('convertToInteractive',\n",
              "                                                     [key], {});\n",
              "          if (!dataTable) return;\n",
              "\n",
              "          const docLinkHtml = 'Like what you see? Visit the ' +\n",
              "            '<a target=\"_blank\" href=https://colab.research.google.com/notebooks/data_table.ipynb>data table notebook</a>'\n",
              "            + ' to learn more about interactive tables.';\n",
              "          element.innerHTML = '';\n",
              "          dataTable['output_type'] = 'display_data';\n",
              "          await google.colab.output.renderOutput(dataTable, element);\n",
              "          const docLink = document.createElement('div');\n",
              "          docLink.innerHTML = docLinkHtml;\n",
              "          element.appendChild(docLink);\n",
              "        }\n",
              "      </script>\n",
              "    </div>\n",
              "  </div>\n",
              "  "
            ]
          },
          "metadata": {},
          "execution_count": 33
        }
      ]
    },
    {
      "cell_type": "code",
      "source": [
        "from matplotlib_venn import venn3\n",
        "\n",
        "venn3([set(data[data['group'] == 'diabetes']['bacteria'].unique()),\n",
        "       set(data[data['group'] == 'diarrhea']['bacteria'].unique()),\n",
        "       set(data[data['group'] == 'healthy']['bacteria'].unique())],\n",
        "      set_labels = ['diabetes', 'diarrhea', 'healhy'])\n",
        "plt.show()\n",
        "\n"
      ],
      "metadata": {
        "colab": {
          "base_uri": "https://localhost:8080/",
          "height": 252
        },
        "id": "RuSrofvDetuk",
        "outputId": "9d7531c2-8740-484d-bead-f8d9f2b6bc9e"
      },
      "execution_count": null,
      "outputs": [
        {
          "output_type": "display_data",
          "data": {
            "text/plain": [
              "<Figure size 432x288 with 1 Axes>"
            ],
            "image/png": "[encoded data removed]"
          },
          "metadata": {}
        }
      ]
    },
    {
      "cell_type": "markdown",
      "source": [
        "As we can see, not much species are actually overlapping.\n",
        "\n",
        "❗!TO THINK!❗\n",
        "How it's better to represent bacteria names: OHE, label encoding, binary encoding, embedding or smth else?\n",
        "OHE seems to be too sparse (--> very complex computation), label encoding can result in bias to the highest values...\n",
        "\n",
        "We can try label encoding here:\n",
        "nomalizing between 0 and 1 to apply multinomial later (to decode back to species)\n"
      ],
      "metadata": {
        "id": "G6RKxJh3hzFq"
      }
    },
    {
      "cell_type": "code",
      "source": [
        "codes, unique_names = pd.factorize(data['bacteria'])\n",
        "data['bacteria'] = (codes + 1) / len(unique_names)"
      ],
      "metadata": {
        "id": "6irw4h1wih2Q"
      },
      "execution_count": null,
      "outputs": []
    },
    {
      "cell_type": "code",
      "source": [
        "data['bacteria'] = data['bacteria'].astype(float)"
      ],
      "metadata": {
        "id": "IYhO0AGovO_6"
      },
      "execution_count": null,
      "outputs": []
    },
    {
      "cell_type": "markdown",
      "source": [
        "Encoding groups in the same way:"
      ],
      "metadata": {
        "id": "O-Op_9uZsoAp"
      }
    },
    {
      "cell_type": "code",
      "source": [
        "codes_g, unique_groups = pd.factorize(data['group'])\n",
        "data['group'] = codes_g"
      ],
      "metadata": {
        "id": "Mpx994sLsmuZ"
      },
      "execution_count": null,
      "outputs": []
    },
    {
      "cell_type": "code",
      "source": [
        "data.head()"
      ],
      "metadata": {
        "colab": {
          "base_uri": "https://localhost:8080/",
          "height": 206
        },
        "id": "Gg1laPqKr9p4",
        "outputId": "957141c1-d114-474e-ed9d-64cdfd9c50d9"
      },
      "execution_count": null,
      "outputs": [
        {
          "output_type": "execute_result",
          "data": {
            "text/plain": [
              "   bacteria  abundance  group\n",
              "0  0.008197   5.040580      0\n",
              "1  0.016393   1.799440      0\n",
              "2  0.024590   1.748656      0\n",
              "3  0.032787   1.667293      0\n",
              "4  0.040984   1.331201      0"
            ],
            "text/html": [
              "\n",
              "  <div id=\"df-e13f282d-7226-455f-95f6-94a366cb4305\">\n",
              "    <div class=\"colab-df-container\">\n",
              "      <div>\n",
              "<style scoped>\n",
              "    .dataframe tbody tr th:only-of-type {\n",
              "        vertical-align: middle;\n",
              "    }\n",
              "\n",
              "    .dataframe tbody tr th {\n",
              "        vertical-align: top;\n",
              "    }\n",
              "\n",
              "    .dataframe thead th {\n",
              "        text-align: right;\n",
              "    }\n",
              "</style>\n",
              "<table border=\"1\" class=\"dataframe\">\n",
              "  <thead>\n",
              "    <tr style=\"text-align: right;\">\n",
              "      <th></th>\n",
              "      <th>bacteria</th>\n",
              "      <th>abundance</th>\n",
              "      <th>group</th>\n",
              "    </tr>\n",
              "  </thead>\n",
              "  <tbody>\n",
              "    <tr>\n",
              "      <th>0</th>\n",
              "      <td>0.008197</td>\n",
              "      <td>5.040580</td>\n",
              "      <td>0</td>\n",
              "    </tr>\n",
              "    <tr>\n",
              "      <th>1</th>\n",
              "      <td>0.016393</td>\n",
              "      <td>1.799440</td>\n",
              "      <td>0</td>\n",
              "    </tr>\n",
              "    <tr>\n",
              "      <th>2</th>\n",
              "      <td>0.024590</td>\n",
              "      <td>1.748656</td>\n",
              "      <td>0</td>\n",
              "    </tr>\n",
              "    <tr>\n",
              "      <th>3</th>\n",
              "      <td>0.032787</td>\n",
              "      <td>1.667293</td>\n",
              "      <td>0</td>\n",
              "    </tr>\n",
              "    <tr>\n",
              "      <th>4</th>\n",
              "      <td>0.040984</td>\n",
              "      <td>1.331201</td>\n",
              "      <td>0</td>\n",
              "    </tr>\n",
              "  </tbody>\n",
              "</table>\n",
              "</div>\n",
              "      <button class=\"colab-df-convert\" onclick=\"convertToInteractive('df-e13f282d-7226-455f-95f6-94a366cb4305')\"\n",
              "              title=\"Convert this dataframe to an interactive table.\"\n",
              "              style=\"display:none;\">\n",
              "        \n",
              "  <svg xmlns=\"http://www.w3.org/2000/svg\" height=\"24px\"viewBox=\"0 0 24 24\"\n",
              "       width=\"24px\">\n",
              "    <path d=\"M0 0h24v24H0V0z\" fill=\"none\"/>\n",
              "    <path d=\"M18.56 5.44l.94 2.06.94-2.06 2.06-.94-2.06-.94-.94-2.06-.94 2.06-2.06.94zm-11 1L8.5 8.5l.94-2.06 2.06-.94-2.06-.94L8.5 2.5l-.94 2.06-2.06.94zm10 10l.94 2.06.94-2.06 2.06-.94-2.06-.94-.94-2.06-.94 2.06-2.06.94z\"/><path d=\"M17.41 7.96l-1.37-1.37c-.4-.4-.92-.59-1.43-.59-.52 0-1.04.2-1.43.59L10.3 9.45l-7.72 7.72c-.78.78-.78 2.05 0 2.83L4 21.41c.39.39.9.59 1.41.59.51 0 1.02-.2 1.41-.59l7.78-7.78 2.81-2.81c.8-.78.8-2.07 0-2.86zM5.41 20L4 18.59l7.72-7.72 1.47 1.35L5.41 20z\"/>\n",
              "  </svg>\n",
              "      </button>\n",
              "      \n",
              "  <style>\n",
              "    .colab-df-container {\n",
              "      display:flex;\n",
              "      flex-wrap:wrap;\n",
              "      gap: 12px;\n",
              "    }\n",
              "\n",
              "    .colab-df-convert {\n",
              "      background-color: #E8F0FE;\n",
              "      border: none;\n",
              "      border-radius: 50%;\n",
              "      cursor: pointer;\n",
              "      display: none;\n",
              "      fill: #1967D2;\n",
              "      height: 32px;\n",
              "      padding: 0 0 0 0;\n",
              "      width: 32px;\n",
              "    }\n",
              "\n",
              "    .colab-df-convert:hover {\n",
              "      background-color: #E2EBFA;\n",
              "      box-shadow: 0px 1px 2px rgba(60, 64, 67, 0.3), 0px 1px 3px 1px rgba(60, 64, 67, 0.15);\n",
              "      fill: #174EA6;\n",
              "    }\n",
              "\n",
              "    [theme=dark] .colab-df-convert {\n",
              "      background-color: #3B4455;\n",
              "      fill: #D2E3FC;\n",
              "    }\n",
              "\n",
              "    [theme=dark] .colab-df-convert:hover {\n",
              "      background-color: #434B5C;\n",
              "      box-shadow: 0px 1px 3px 1px rgba(0, 0, 0, 0.15);\n",
              "      filter: drop-shadow(0px 1px 2px rgba(0, 0, 0, 0.3));\n",
              "      fill: #FFFFFF;\n",
              "    }\n",
              "  </style>\n",
              "\n",
              "      <script>\n",
              "        const buttonEl =\n",
              "          document.querySelector('#df-e13f282d-7226-455f-95f6-94a366cb4305 button.colab-df-convert');\n",
              "        buttonEl.style.display =\n",
              "          google.colab.kernel.accessAllowed ? 'block' : 'none';\n",
              "\n",
              "        async function convertToInteractive(key) {\n",
              "          const element = document.querySelector('#df-e13f282d-7226-455f-95f6-94a366cb4305');\n",
              "          const dataTable =\n",
              "            await google.colab.kernel.invokeFunction('convertToInteractive',\n",
              "                                                     [key], {});\n",
              "          if (!dataTable) return;\n",
              "\n",
              "          const docLinkHtml = 'Like what you see? Visit the ' +\n",
              "            '<a target=\"_blank\" href=https://colab.research.google.com/notebooks/data_table.ipynb>data table notebook</a>'\n",
              "            + ' to learn more about interactive tables.';\n",
              "          element.innerHTML = '';\n",
              "          dataTable['output_type'] = 'display_data';\n",
              "          await google.colab.output.renderOutput(dataTable, element);\n",
              "          const docLink = document.createElement('div');\n",
              "          docLink.innerHTML = docLinkHtml;\n",
              "          element.appendChild(docLink);\n",
              "        }\n",
              "      </script>\n",
              "    </div>\n",
              "  </div>\n",
              "  "
            ]
          },
          "metadata": {},
          "execution_count": 37
        }
      ]
    },
    {
      "cell_type": "markdown",
      "source": [
        "Normalizing abundancies:"
      ],
      "metadata": {
        "id": "8ps3fyHsiu6_"
      }
    },
    {
      "cell_type": "code",
      "source": [
        "# not minmax cause it gives not normal distribution with shift to 0\n",
        "scaler = StandardScaler()\n",
        "data['abundance'] = scaler.fit_transform(data[['abundance']].to_numpy())"
      ],
      "metadata": {
        "id": "jptiEPeviuEN"
      },
      "execution_count": null,
      "outputs": []
    },
    {
      "cell_type": "code",
      "source": [
        "data.head()"
      ],
      "metadata": {
        "colab": {
          "base_uri": "https://localhost:8080/",
          "height": 206
        },
        "id": "goRQYy-Btv6J",
        "outputId": "3ebbc0ee-6a75-412d-9cc5-f5356ff2d9b3"
      },
      "execution_count": null,
      "outputs": [
        {
          "output_type": "execute_result",
          "data": {
            "text/plain": [
              "   bacteria  abundance  group\n",
              "0  0.008197   2.607785      0\n",
              "1  0.016393   0.337153      0\n",
              "2  0.024590   0.301576      0\n",
              "3  0.032787   0.244575      0\n",
              "4  0.040984   0.009121      0"
            ],
            "text/html": [
              "\n",
              "  <div id=\"df-35be4d18-9336-4a8b-849a-60063132adb3\">\n",
              "    <div class=\"colab-df-container\">\n",
              "      <div>\n",
              "<style scoped>\n",
              "    .dataframe tbody tr th:only-of-type {\n",
              "        vertical-align: middle;\n",
              "    }\n",
              "\n",
              "    .dataframe tbody tr th {\n",
              "        vertical-align: top;\n",
              "    }\n",
              "\n",
              "    .dataframe thead th {\n",
              "        text-align: right;\n",
              "    }\n",
              "</style>\n",
              "<table border=\"1\" class=\"dataframe\">\n",
              "  <thead>\n",
              "    <tr style=\"text-align: right;\">\n",
              "      <th></th>\n",
              "      <th>bacteria</th>\n",
              "      <th>abundance</th>\n",
              "      <th>group</th>\n",
              "    </tr>\n",
              "  </thead>\n",
              "  <tbody>\n",
              "    <tr>\n",
              "      <th>0</th>\n",
              "      <td>0.008197</td>\n",
              "      <td>2.607785</td>\n",
              "      <td>0</td>\n",
              "    </tr>\n",
              "    <tr>\n",
              "      <th>1</th>\n",
              "      <td>0.016393</td>\n",
              "      <td>0.337153</td>\n",
              "      <td>0</td>\n",
              "    </tr>\n",
              "    <tr>\n",
              "      <th>2</th>\n",
              "      <td>0.024590</td>\n",
              "      <td>0.301576</td>\n",
              "      <td>0</td>\n",
              "    </tr>\n",
              "    <tr>\n",
              "      <th>3</th>\n",
              "      <td>0.032787</td>\n",
              "      <td>0.244575</td>\n",
              "      <td>0</td>\n",
              "    </tr>\n",
              "    <tr>\n",
              "      <th>4</th>\n",
              "      <td>0.040984</td>\n",
              "      <td>0.009121</td>\n",
              "      <td>0</td>\n",
              "    </tr>\n",
              "  </tbody>\n",
              "</table>\n",
              "</div>\n",
              "      <button class=\"colab-df-convert\" onclick=\"convertToInteractive('df-35be4d18-9336-4a8b-849a-60063132adb3')\"\n",
              "              title=\"Convert this dataframe to an interactive table.\"\n",
              "              style=\"display:none;\">\n",
              "        \n",
              "  <svg xmlns=\"http://www.w3.org/2000/svg\" height=\"24px\"viewBox=\"0 0 24 24\"\n",
              "       width=\"24px\">\n",
              "    <path d=\"M0 0h24v24H0V0z\" fill=\"none\"/>\n",
              "    <path d=\"M18.56 5.44l.94 2.06.94-2.06 2.06-.94-2.06-.94-.94-2.06-.94 2.06-2.06.94zm-11 1L8.5 8.5l.94-2.06 2.06-.94-2.06-.94L8.5 2.5l-.94 2.06-2.06.94zm10 10l.94 2.06.94-2.06 2.06-.94-2.06-.94-.94-2.06-.94 2.06-2.06.94z\"/><path d=\"M17.41 7.96l-1.37-1.37c-.4-.4-.92-.59-1.43-.59-.52 0-1.04.2-1.43.59L10.3 9.45l-7.72 7.72c-.78.78-.78 2.05 0 2.83L4 21.41c.39.39.9.59 1.41.59.51 0 1.02-.2 1.41-.59l7.78-7.78 2.81-2.81c.8-.78.8-2.07 0-2.86zM5.41 20L4 18.59l7.72-7.72 1.47 1.35L5.41 20z\"/>\n",
              "  </svg>\n",
              "      </button>\n",
              "      \n",
              "  <style>\n",
              "    .colab-df-container {\n",
              "      display:flex;\n",
              "      flex-wrap:wrap;\n",
              "      gap: 12px;\n",
              "    }\n",
              "\n",
              "    .colab-df-convert {\n",
              "      background-color: #E8F0FE;\n",
              "      border: none;\n",
              "      border-radius: 50%;\n",
              "      cursor: pointer;\n",
              "      display: none;\n",
              "      fill: #1967D2;\n",
              "      height: 32px;\n",
              "      padding: 0 0 0 0;\n",
              "      width: 32px;\n",
              "    }\n",
              "\n",
              "    .colab-df-convert:hover {\n",
              "      background-color: #E2EBFA;\n",
              "      box-shadow: 0px 1px 2px rgba(60, 64, 67, 0.3), 0px 1px 3px 1px rgba(60, 64, 67, 0.15);\n",
              "      fill: #174EA6;\n",
              "    }\n",
              "\n",
              "    [theme=dark] .colab-df-convert {\n",
              "      background-color: #3B4455;\n",
              "      fill: #D2E3FC;\n",
              "    }\n",
              "\n",
              "    [theme=dark] .colab-df-convert:hover {\n",
              "      background-color: #434B5C;\n",
              "      box-shadow: 0px 1px 3px 1px rgba(0, 0, 0, 0.15);\n",
              "      filter: drop-shadow(0px 1px 2px rgba(0, 0, 0, 0.3));\n",
              "      fill: #FFFFFF;\n",
              "    }\n",
              "  </style>\n",
              "\n",
              "      <script>\n",
              "        const buttonEl =\n",
              "          document.querySelector('#df-35be4d18-9336-4a8b-849a-60063132adb3 button.colab-df-convert');\n",
              "        buttonEl.style.display =\n",
              "          google.colab.kernel.accessAllowed ? 'block' : 'none';\n",
              "\n",
              "        async function convertToInteractive(key) {\n",
              "          const element = document.querySelector('#df-35be4d18-9336-4a8b-849a-60063132adb3');\n",
              "          const dataTable =\n",
              "            await google.colab.kernel.invokeFunction('convertToInteractive',\n",
              "                                                     [key], {});\n",
              "          if (!dataTable) return;\n",
              "\n",
              "          const docLinkHtml = 'Like what you see? Visit the ' +\n",
              "            '<a target=\"_blank\" href=https://colab.research.google.com/notebooks/data_table.ipynb>data table notebook</a>'\n",
              "            + ' to learn more about interactive tables.';\n",
              "          element.innerHTML = '';\n",
              "          dataTable['output_type'] = 'display_data';\n",
              "          await google.colab.output.renderOutput(dataTable, element);\n",
              "          const docLink = document.createElement('div');\n",
              "          docLink.innerHTML = docLinkHtml;\n",
              "          element.appendChild(docLink);\n",
              "        }\n",
              "      </script>\n",
              "    </div>\n",
              "  </div>\n",
              "  "
            ]
          },
          "metadata": {},
          "execution_count": 70
        }
      ]
    },
    {
      "cell_type": "code",
      "source": [
        "data.dtypes"
      ],
      "metadata": {
        "id": "Ni4Ho4EFtyFE",
        "outputId": "ddafefa9-d2dd-4174-9a42-651729e9cf7c",
        "colab": {
          "base_uri": "https://localhost:8080/"
        }
      },
      "execution_count": null,
      "outputs": [
        {
          "output_type": "execute_result",
          "data": {
            "text/plain": [
              "bacteria     float64\n",
              "abundance    float64\n",
              "group          int64\n",
              "dtype: object"
            ]
          },
          "metadata": {},
          "execution_count": 71
        }
      ]
    },
    {
      "cell_type": "code",
      "source": [
        "X, y = data[['bacteria', 'abundance']].to_numpy(), data[['group']].to_numpy()"
      ],
      "metadata": {
        "id": "cTKT2Fgh1v1e"
      },
      "execution_count": null,
      "outputs": []
    },
    {
      "cell_type": "code",
      "source": [
        "plot_hists(X[y[:, 0]==0], X[y[:, 0]==1], ['bacteria', 'abundance'], label1=\"class 1\", label2=\"class 2\", bins=50)"
      ],
      "metadata": {
        "colab": {
          "base_uri": "https://localhost:8080/",
          "height": 487
        },
        "id": "WGei__QN8dQK",
        "outputId": "29583db9-ff55-4562-e319-ab647654f233"
      },
      "execution_count": null,
      "outputs": [
        {
          "output_type": "display_data",
          "data": {
            "text/plain": [
              "<Figure size 2880x1440 with 2 Axes>"
            ],
            "image/png": "[encoded data removed]"
          },
          "metadata": {
            "needs_background": "light"
          }
        }
      ]
    },
    {
      "cell_type": "markdown",
      "source": [
        "Abundance distribution is not normal and has a heavy tail close to 0. To get rid of it we can apply quantile transformer from [sklearn](https://scikit-learn.org/stable/modules/generated/sklearn.preprocessing.QuantileTransformer.html). "
      ],
      "metadata": {
        "id": "SxCVajWI82UB"
      }
    },
    {
      "cell_type": "code",
      "source": [
        "from sklearn.preprocessing import QuantileTransformer\n",
        "\n",
        "qt = QuantileTransformer(n_quantiles=10, random_state=SEED,\n",
        "                         output_distribution='normal')\n",
        "ab_qt = qt.fit_transform(data[['abundance']].to_numpy())\n",
        "data['ab_trf'] = ab_qt\n",
        "X_qt = data[['bacteria', 'ab_trf']].to_numpy()"
      ],
      "metadata": {
        "id": "B1ItRloC9Xb8"
      },
      "execution_count": null,
      "outputs": []
    },
    {
      "cell_type": "code",
      "source": [
        "plot_hists(X_qt[y[:, 0]==0], X_qt[y[:, 0]==1], ['bacteria', 'ab_trf'], label1=\"class 1\", label2=\"class 2\", bins=50)"
      ],
      "metadata": {
        "colab": {
          "base_uri": "https://localhost:8080/",
          "height": 528
        },
        "id": "Q8s8m8IU9hxe",
        "outputId": "8fd84bf4-6be3-47bb-d5ca-cb84636ff1e8"
      },
      "execution_count": null,
      "outputs": [
        {
          "output_type": "display_data",
          "data": {
            "text/plain": [
              "<Figure size 2880x1440 with 2 Axes>"
            ],
            "image/png": "[encoded data removed]"
          },
          "metadata": {
            "needs_background": "light"
          }
        }
      ]
    },
    {
      "cell_type": "markdown",
      "source": [
        "Looks a bit better"
      ],
      "metadata": {
        "id": "wsT2Mn_L-fWR"
      }
    },
    {
      "cell_type": "code",
      "source": [
        "# I decided not to use it but will leave it here just in case / USELESS CELL ! /\n",
        "dataloader = DataLoader(list(zip(X, y)), batch_size=batch_size, shuffle=True, drop_last = True)\n",
        "\n",
        "for i, (s, l) in enumerate(dataloader):\n",
        "    if i == 1:\n",
        "        break\n",
        "    print(s)\n",
        "    print(l)"
      ],
      "metadata": {
        "id": "bTZlZ-opL7Nq"
      },
      "execution_count": null,
      "outputs": []
    },
    {
      "cell_type": "markdown",
      "source": [
        "# CWGAN"
      ],
      "metadata": {
        "id": "toCuXbEiCYmw"
      }
    },
    {
      "cell_type": "markdown",
      "source": [
        "Splitting test and train data:"
      ],
      "metadata": {
        "id": "fhpLNj-BCqnN"
      }
    },
    {
      "cell_type": "code",
      "source": [
        "# if we're using X_qt: (if not just change to X)\n",
        "\n",
        "X_train, X_test, y_train, y_test = train_test_split(\n",
        "    X_qt, y, stratify=y, test_size=0.3, shuffle=True, random_state=SEED\n",
        "    )"
      ],
      "metadata": {
        "id": "OYHLdZFTk03N"
      },
      "execution_count": null,
      "outputs": []
    },
    {
      "cell_type": "markdown",
      "source": [
        "## Defining generator and discriminator:"
      ],
      "metadata": {
        "id": "w_uYYZgmCjQV"
      }
    },
    {
      "cell_type": "markdown",
      "source": [
        "Scheme:"
      ],
      "metadata": {
        "id": "uswEsjxznwGn"
      }
    },
    {
      "cell_type": "markdown",
      "source": [
        "![image.png](data:image/png;base64,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)"
      ],
      "metadata": {
        "id": "wyxtjTkLl15x"
      }
    },
    {
      "cell_type": "markdown",
      "source": [
        "Losss function:\n",
        "\n",
        "$$L(G, D) = -\\frac{1}{n} \\sum_{x_i \\in X, y_i \\in y} D(x_i, y_i) + \\frac{1}{n} \\sum_{z_i \\in Z, y_i \\in y} D(G(z_i, y_i), y_i) \\to \\max_G \\min_D$$"
      ],
      "metadata": {
        "id": "YKDhmEnAnya-"
      }
    },
    {
      "cell_type": "code",
      "source": [
        "# Generator model\n",
        "# takes vector (1, num_features) = noise, z and conditions vector = classes, y\n",
        "# returns new vector (x_hat)\n",
        "\n",
        "DEVICE = torch.device(\"cuda\" if torch.cuda.is_available() else \"cpu\")\n",
        "\n",
        "class Generator(nn.Module):\n",
        "    def __init__(self, n_inputs, n_outputs, hidden_size=100):\n",
        "        super(Generator, self).__init__()\n",
        "        self.n_inputs = n_inputs\n",
        "        self.n_outputs = n_outputs\n",
        "\n",
        "        self.net = nn.Sequential(\n",
        "            nn.Linear(self.n_inputs, hidden_size), \n",
        "            nn.BatchNorm1d(hidden_size),\n",
        "            nn.ReLU(),\n",
        "            nn.Linear(hidden_size, hidden_size),\n",
        "            nn.BatchNorm1d(hidden_size),\n",
        "            nn.ReLU(),\n",
        "            nn.Linear(hidden_size, self.n_outputs)\n",
        "        )\n",
        "\n",
        "    def forward(self, z, y):\n",
        "        zy = torch.cat((z, y), dim=1)\n",
        "        return self.net(zy)\n",
        "\n",
        "# Discriminator model\n",
        "# takes our vector-sample generated by generator (1, num_features), x \n",
        "# returns number 1/0 - fake or real\n",
        "\n",
        "class Discriminator(nn.Module):\n",
        "    def __init__(self, n_inputs, hidden_size=100):\n",
        "        super(Discriminator, self).__init__()\n",
        "        self.n_inputs = n_inputs\n",
        "\n",
        "        self.net = nn.Sequential(\n",
        "            nn.Linear(self.n_inputs, hidden_size), \n",
        "            nn.ReLU(),\n",
        "            nn.Linear(hidden_size, hidden_size),\n",
        "            nn.ReLU(),\n",
        "            nn.Linear(hidden_size, 1)\n",
        "        )\n",
        "\n",
        "    def forward(self, x, y):\n",
        "        # set parameter limits\n",
        "        for p in self.parameters():\n",
        "          p.data.clamp_(-0.01, 0.01)\n",
        "\n",
        "        xy = torch.cat((x, y), dim=1)\n",
        "        return self.net(xy)"
      ],
      "metadata": {
        "id": "czuTxozpCgkp"
      },
      "execution_count": null,
      "outputs": []
    },
    {
      "cell_type": "markdown",
      "source": [
        "Training loop:\n",
        "\n",
        "* p.data.clamp_(-0.01, 0.01) - restriction for the discriminator weights (p)\n",
        "* n_critic - number of D training iterations for 1 training of G\n",
        "* conversion from numpy to tensor \\\\\n",
        "X_tensor = torch.tensor(X_numpy, dtype=torch.float, device=DEVICE)"
      ],
      "metadata": {
        "id": "N8PsdrofC0zw"
      }
    },
    {
      "cell_type": "code",
      "source": [
        "class Fitter(object):\n",
        "    \n",
        "    def __init__(self, generator, discriminator, batch_size=32, n_epochs=10,\n",
        "                 latent_dim=1, lr=0.0001, n_critic=5):\n",
        "        \n",
        "        self.generator = generator\n",
        "        self.discriminator = discriminator\n",
        "        self.batch_size = batch_size\n",
        "        self.n_epochs = n_epochs\n",
        "        self.latent_dim = latent_dim\n",
        "        self.lr = lr\n",
        "        self.n_critic = n_critic\n",
        "        \n",
        "        self.opt_gen  = torch.optim.RMSprop(self.generator.parameters(), lr=self.lr)\n",
        "        self.opt_disc = torch.optim.RMSprop(self.discriminator.parameters(), lr=self.lr)\n",
        "        # optim.Adam(discriminator.parameters(), lr=lr)\n",
        "        \n",
        "        self.generator.to(DEVICE)\n",
        "        self.discriminator.to(DEVICE)\n",
        "        # criterion = nn.BCELoss()\n",
        "    \n",
        "    \n",
        "    def fit(self, X, y):\n",
        "        \n",
        "        # numpy to tensor\n",
        "        X_real = torch.tensor(X, dtype=torch.float, device=DEVICE)\n",
        "        y_cond = torch.tensor(y, dtype=torch.float, device=DEVICE)\n",
        "        \n",
        "        # tensor to dataset\n",
        "        dataset_real = TensorDataset(X_real, y_cond)\n",
        "        \n",
        "        # Turn on training\n",
        "        self.generator.train(True)\n",
        "        self.discriminator.train(True)\n",
        "        \n",
        "        self.loss_history = []\n",
        "\n",
        "        iter_i = 0\n",
        "\n",
        "        # Fit GAN\n",
        "        for epoch in range(self.n_epochs):\n",
        "            for i, (real_batch, cond_batch) in enumerate(\n",
        "                DataLoader(dataset_real, batch_size=self.batch_size, shuffle=True)\n",
        "                ):\n",
        "                \n",
        "              real_batch = real_batch.to(DEVICE)\n",
        "              cond_batch = cond_batch.to(DEVICE)\n",
        "              \n",
        "              # generation of new objects\n",
        "              num_objects = real_batch.shape[0]\n",
        "              Z_noise = torch.normal(0, 1, (num_objects, self.latent_dim))\n",
        "              gen_objects = self.generator(Z_noise, cond_batch)\n",
        "\n",
        "              # score calculating\n",
        "              real_objects_scores, gen_objects_scores = torch.split(self.discriminator(\n",
        "                  torch.cat([real_batch, gen_objects], dim=0), \n",
        "                  torch.cat([cond_batch, cond_batch], dim=0)), num_objects)\n",
        "\n",
        "              if iter_i % self.n_critic == 0:\n",
        "                # generator learning step\n",
        "                self.opt_gen.zero_grad()\n",
        "                gen_loss = - torch.mean(gen_objects_scores)\n",
        "                gen_loss.backward()\n",
        "                self.opt_gen.step()\n",
        "\n",
        "              else:\n",
        "                # discr learning step\n",
        "                self.opt_disc.zero_grad()\n",
        "                discr_loss = torch.mean(gen_objects_scores) - torch.mean(real_objects_scores)\n",
        "                discr_loss.backward()\n",
        "                self.opt_disc.step()\n",
        "          \n",
        "              iter_i += 1\n",
        "                    \n",
        "            # caiculate and store loss after an epoch\n",
        "            Z_noise = torch.normal(0, 1, (len(X_real), self.latent_dim))\n",
        "            X_fake = self.generator(Z_noise, y_cond)\n",
        "            loss_epoch = torch.mean(self.discriminator(X_real, y_cond)) - torch.mean(self.discriminator(X_fake, y_cond))\n",
        "            self.loss_history.append(loss_epoch.detach().cpu())\n",
        "                    \n",
        "        # Turn off training\n",
        "        self.generator.train(False)\n",
        "        self.discriminator.train(False)"
      ],
      "metadata": {
        "id": "1wdYvgjGEhJ2"
      },
      "execution_count": null,
      "outputs": []
    },
    {
      "cell_type": "markdown",
      "source": [
        "Training the model:"
      ],
      "metadata": {
        "id": "HjnumKi2rAfu"
      }
    },
    {
      "cell_type": "code",
      "source": [
        "y_train.shape, type(y_train)"
      ],
      "metadata": {
        "colab": {
          "base_uri": "https://localhost:8080/"
        },
        "id": "4BUunfrerOp6",
        "outputId": "0b84e9db-dca8-4a97-a373-f0f8df06228c"
      },
      "execution_count": null,
      "outputs": [
        {
          "output_type": "execute_result",
          "data": {
            "text/plain": [
              "((105, 1), numpy.ndarray)"
            ]
          },
          "metadata": {},
          "execution_count": 74
        }
      ]
    },
    {
      "cell_type": "code",
      "source": [
        "X_train.shape, type(X_train)"
      ],
      "metadata": {
        "colab": {
          "base_uri": "https://localhost:8080/"
        },
        "id": "rmi0nq9ltIi8",
        "outputId": "a1096798-3ca8-47ff-9209-99db09404358"
      },
      "execution_count": null,
      "outputs": [
        {
          "output_type": "execute_result",
          "data": {
            "text/plain": [
              "((105, 2), numpy.ndarray)"
            ]
          },
          "metadata": {},
          "execution_count": 76
        }
      ]
    },
    {
      "cell_type": "code",
      "source": [
        "%%time\n",
        "\n",
        "latent_dim = 10\n",
        "generator = Generator(n_inputs=latent_dim+y.shape[1], \n",
        "                          n_outputs=X_train.shape[1])\n",
        "discriminator = Discriminator(n_inputs=X_train.shape[1] + y.shape[1])\n",
        "\n",
        "# will fall with batch size = 8, because there will be a leftover batch of size 1\n",
        "fitter = Fitter(generator, discriminator, batch_size=16, n_epochs=100,\n",
        "                latent_dim=latent_dim, lr=0.0001, n_critic=5)\n",
        "fitter.fit(X_train, y_train)"
      ],
      "metadata": {
        "colab": {
          "base_uri": "https://localhost:8080/"
        },
        "id": "fiSyGSDeq_rd",
        "outputId": "dc9e19eb-9ecd-43b2-cf50-64fc28820913"
      },
      "execution_count": null,
      "outputs": [
        {
          "output_type": "stream",
          "name": "stdout",
          "text": [
            "CPU times: user 1.74 s, sys: 0 ns, total: 1.74 s\n",
            "Wall time: 2.43 s\n"
          ]
        }
      ]
    },
    {
      "cell_type": "code",
      "source": [
        "plt.figure(figsize=(9, 5))\n",
        "plt.plot(fitter.loss_history)\n",
        "plt.xlabel(\"Epoch Number\", size=14)\n",
        "plt.ylabel(\"Loss Function\", size=14)\n",
        "plt.xticks(size=14)\n",
        "plt.yticks(size=14)\n",
        "plt.title(\"Conditional WGAN Learning Curve\", size=14)\n",
        "plt.grid(visible=True, linestyle='--', linewidth=0.5, color='0.5')\n",
        "plt.show()"
      ],
      "metadata": {
        "colab": {
          "base_uri": "https://localhost:8080/",
          "height": 359
        },
        "id": "sz-H0avnsbI4",
        "outputId": "825a75bf-03b0-454d-b843-d37a2561952b"
      },
      "execution_count": null,
      "outputs": [
        {
          "output_type": "display_data",
          "data": {
            "text/plain": [
              "<Figure size 648x360 with 1 Axes>"
            ],
            "image/png": "[encoded data removed]"
          },
          "metadata": {
            "needs_background": "light"
          }
        }
      ]
    },
    {
      "cell_type": "markdown",
      "source": [
        "Looks horrible :)))\n",
        "\n",
        "## Generating fake data:"
      ],
      "metadata": {
        "id": "dpf6LVyGuszi"
      }
    },
    {
      "cell_type": "code",
      "source": [
        "def generate(generator, y, latent_dim):\n",
        "\n",
        "    y_cond = torch.tensor(y, dtype=torch.float, device=DEVICE)\n",
        "    Z_noise = torch.normal(0, 1, (len(y), latent_dim))\n",
        "    X_fake_raw = generator(Z_noise, y_cond)\n",
        "    X_fake = X_fake_raw.cpu().detach().numpy()\n",
        "\n",
        "    return X_fake # numpy"
      ],
      "metadata": {
        "id": "6xVg1Muosbq-"
      },
      "execution_count": null,
      "outputs": []
    },
    {
      "cell_type": "code",
      "source": [
        "X_fake_train = generate(fitter.generator, y_train, latent_dim)"
      ],
      "metadata": {
        "id": "xIRPYkd1u8gK"
      },
      "execution_count": null,
      "outputs": []
    },
    {
      "cell_type": "code",
      "source": [
        "X_fake_test = generate(fitter.generator, y_test, latent_dim)"
      ],
      "metadata": {
        "id": "fq0lnQ1yxrQZ"
      },
      "execution_count": null,
      "outputs": []
    },
    {
      "cell_type": "markdown",
      "source": [
        "Plotting fake vs true:"
      ],
      "metadata": {
        "id": "5CbYt46FvYEb"
      }
    },
    {
      "cell_type": "code",
      "source": [
        "plot_hists(X_train, X_fake_train, ['bacteria', 'abundance'], label1=\"Real\", label2=\"Fake\", bins=50)"
      ],
      "metadata": {
        "colab": {
          "base_uri": "https://localhost:8080/",
          "height": 490
        },
        "id": "Ri2rCyPWu_ZD",
        "outputId": "bea30854-c905-4502-9d3b-c4e9155dc226"
      },
      "execution_count": null,
      "outputs": [
        {
          "output_type": "display_data",
          "data": {
            "text/plain": [
              "<Figure size 2880x1440 with 2 Axes>"
            ],
            "image/png": "[encoded data removed]"
          },
          "metadata": {
            "needs_background": "light"
          }
        }
      ]
    },
    {
      "cell_type": "markdown",
      "source": [
        "## Metrics:"
      ],
      "metadata": {
        "id": "veu4XMjkxcBw"
      }
    },
    {
      "cell_type": "code",
      "source": [
        "# joining fake matrices in one \n",
        "XX_train = np.concatenate((X_fake_train, X_train), axis=0)\n",
        "XX_test = np.concatenate((X_fake_test, X_test), axis=0)\n",
        "\n",
        "yy_train = np.array([0]*len(X_fake_train) + [1]*len(X_train))\n",
        "yy_test = np.array([0]*len(X_fake_test) + [1]*len(X_test))"
      ],
      "metadata": {
        "id": "iqMmFSrQvPFq"
      },
      "execution_count": null,
      "outputs": []
    },
    {
      "cell_type": "code",
      "source": [
        "# trtaining classificator\n",
        "clf = GradientBoostingClassifier()\n",
        "clf.fit(XX_train, yy_train)\n",
        "\n",
        "# getting predictions\n",
        "yy_test_proba = clf.predict_proba(XX_test)[:, 1]"
      ],
      "metadata": {
        "id": "49dQVLYPvCEK"
      },
      "execution_count": null,
      "outputs": []
    },
    {
      "cell_type": "code",
      "source": [
        "auc = roc_auc_score(yy_test, yy_test_proba)\n",
        "print(\"ROC AUC = \", auc)"
      ],
      "metadata": {
        "colab": {
          "base_uri": "https://localhost:8080/"
        },
        "id": "g2C1gjyyyDyr",
        "outputId": "94b608c4-6482-4224-b45f-e58ddc0953b9"
      },
      "execution_count": null,
      "outputs": [
        {
          "output_type": "stream",
          "name": "stdout",
          "text": [
            "ROC AUC =  0.7762287334593573\n"
          ]
        }
      ]
    },
    {
      "cell_type": "markdown",
      "source": [
        "# CVAE"
      ],
      "metadata": {
        "id": "PRgJVp9czJEu"
      }
    },
    {
      "cell_type": "markdown",
      "source": [
        "## Defining the network:"
      ],
      "metadata": {
        "id": "Fhdu2VKNzWIx"
      }
    },
    {
      "cell_type": "code",
      "source": [
        "class Encoder(nn.Module):\n",
        "    def __init__(self, n_inputs, lat_size, hidden_size=100):\n",
        "        super(Encoder, self).__init__()\n",
        "        \n",
        "        self.n_inputs = n_inputs\n",
        "        self.lat_size = lat_size\n",
        "\n",
        "        self.enc_net = nn.Sequential(\n",
        "            nn.Linear(self.n_inputs, hidden_size), \n",
        "            nn.BatchNorm1d(hidden_size),\n",
        "            nn.ReLU(),\n",
        "            nn.Linear(hidden_size, hidden_size),\n",
        "            nn.BatchNorm1d(hidden_size),\n",
        "            nn.ReLU()\n",
        "        )\n",
        "        \n",
        "        self.mu = nn.Linear(hidden_size, self.lat_size)\n",
        "        self.log_sigma =nn.Linear(hidden_size, self.lat_size)\n",
        "        \n",
        "    def forward(self, x, y):\n",
        "        z = torch.cat((x, y), dim=1)\n",
        "        z = self.enc_net(z)\n",
        "        mu = self.mu(z)\n",
        "        log_sigma = self.log_sigma(z)\n",
        "\n",
        "        return mu, log_sigma \n",
        "\n",
        "\n",
        "class Decoder(nn.Module):\n",
        "    def __init__(self, n_inputs, n_outputs, hidden_size=100):\n",
        "        super(Decoder, self).__init__()\n",
        "        \n",
        "        self.n_inputs = n_inputs\n",
        "        self.n_outputs = n_outputs\n",
        "\n",
        "        self.dec_net = nn.Sequential(\n",
        "            nn.Linear(self.n_inputs, hidden_size), \n",
        "            nn.ReLU(),\n",
        "            nn.Linear(hidden_size, hidden_size),\n",
        "            nn.ReLU(),\n",
        "            nn.Linear(hidden_size, self.n_outputs),\n",
        "        )\n",
        "        \n",
        "    def forward(self, z, y):\n",
        "        z_cond = torch.cat((z, y), dim=1)\n",
        "        x_rec = self.dec_net(z_cond)\n",
        "\n",
        "        return x_rec"
      ],
      "metadata": {
        "id": "KV7te2WmzLMt"
      },
      "execution_count": null,
      "outputs": []
    },
    {
      "cell_type": "code",
      "source": [
        "class VAEFitter(object):\n",
        "    \n",
        "    def __init__(self, encoder, decoder, batch_size=32, n_epochs=10, latent_dim=1,\n",
        "                 lr=0.0001, KL_weight=0.001):\n",
        "        \n",
        "        self.encoder = encoder\n",
        "        self.decoder = decoder\n",
        "        self.batch_size = batch_size\n",
        "        self.n_epochs = n_epochs\n",
        "        self.latent_dim = latent_dim\n",
        "        self.lr = lr\n",
        "        self.KL_weight = KL_weight\n",
        "        \n",
        "        self.criterion = nn.MSELoss()\n",
        "        self.opt  = torch.optim.RMSprop(list(self.encoder.parameters()) + list(self.decoder.parameters()), lr=self.lr)\n",
        "        \n",
        "        self.encoder.to(DEVICE)\n",
        "        self.decoder.to(DEVICE)\n",
        "        \n",
        "    def sample_z(self, mu, log_sigma):\n",
        "        eps = torch.randn(mu.shape).to(DEVICE)\n",
        "        return mu + torch.exp(log_sigma / 2) * eps\n",
        "    \n",
        "    def custom_loss(self, x, rec_x, mu, log_sigma):\n",
        "        KL = torch.mean(-0.5 * torch.sum(1 + log_sigma - mu ** 2 - log_sigma.exp(), dim = 1), dim = 0)\n",
        "        recon_loss = self.criterion(x, rec_x) \n",
        "        return KL*self.KL_weight + recon_loss\n",
        "    \n",
        "    def compute_loss(self, x_batch, cond_batch):\n",
        "        \n",
        "        mu, log_sigma = self.encoder(x_batch, cond_batch)\n",
        "        z = self.sample_z(mu, log_sigma)\n",
        "        rec_x = self.decoder(z, cond_batch)\n",
        "\n",
        "        loss = self.custom_loss(x_batch, rec_x, mu, log_sigma)\n",
        "        return loss\n",
        "    \n",
        "    def fit(self, X, y):\n",
        "        \n",
        "        # numpy to tensor\n",
        "        X_real = torch.tensor(X, dtype=torch.float, device=DEVICE)\n",
        "        y_cond = torch.tensor(y, dtype=torch.float, device=DEVICE)\n",
        "        \n",
        "        # tensor to dataset\n",
        "        dataset_real = TensorDataset(X_real, y_cond)\n",
        "        \n",
        "        # Turn on training\n",
        "        self.encoder.train(True)\n",
        "        self.decoder.train(True)\n",
        "        \n",
        "        self.loss_history = []\n",
        "\n",
        "        # Fit GAN\n",
        "        for epoch in range(self.n_epochs):\n",
        "            for i, (x_batch, cond_batch) in enumerate(DataLoader(dataset_real, batch_size=self.batch_size, shuffle=True)):\n",
        "                \n",
        "                # caiculate loss\n",
        "                loss = self.compute_loss(x_batch, cond_batch)\n",
        "                \n",
        "                # optimization step\n",
        "                self.opt.zero_grad()\n",
        "                loss.backward()\n",
        "                self.opt.step()\n",
        "                    \n",
        "            # caiculate and store loss after an epoch\n",
        "            loss_epoch = self.compute_loss(X_real, y_cond)\n",
        "            self.loss_history.append(loss_epoch.detach().cpu())\n",
        "                    \n",
        "        # Turn off training\n",
        "        self.encoder.train(False)\n",
        "        self.decoder.train(False)"
      ],
      "metadata": {
        "id": "UDg32MI-0oPU"
      },
      "execution_count": null,
      "outputs": []
    },
    {
      "cell_type": "code",
      "source": [
        "%%time\n",
        "\n",
        "latent_dim = 10\n",
        "\n",
        "encoder = Encoder(n_inputs=X_train.shape[1]+y.shape[1], lat_size=latent_dim)\n",
        "decoder = Decoder(n_inputs=latent_dim+y.shape[1], n_outputs=X_train.shape[1])\n",
        "\n",
        "vae_fitter = VAEFitter(encoder, decoder, batch_size=16, n_epochs=100, latent_dim=latent_dim, lr=0.001, KL_weight=0.001)\n",
        "vae_fitter.fit(X_train, y_train)"
      ],
      "metadata": {
        "colab": {
          "base_uri": "https://localhost:8080/"
        },
        "id": "684djE4S0qcv",
        "outputId": "a923eaf9-468a-4b09-d16e-5f628f612099"
      },
      "execution_count": null,
      "outputs": [
        {
          "output_type": "stream",
          "name": "stdout",
          "text": [
            "CPU times: user 1.73 s, sys: 0 ns, total: 1.73 s\n",
            "Wall time: 1.73 s\n"
          ]
        }
      ]
    },
    {
      "cell_type": "markdown",
      "source": [
        "Both here and in CWGAN it's better to use small batches since the toy dataset is not large. However, we have to perform a pure grid search for normal data. As it was written in the cNODE paper, the bacterial data in metagenomics is usually very sparse - we have many species that are special for few classes --> for many other classes it'll be 0. "
      ],
      "metadata": {
        "id": "svL9obW_2lXj"
      }
    },
    {
      "cell_type": "markdown",
      "source": [
        "CVAE learning curve:"
      ],
      "metadata": {
        "id": "yViy2hb_1IBW"
      }
    },
    {
      "cell_type": "code",
      "source": [
        "plt.figure(figsize=(9, 5))\n",
        "plt.plot(vae_fitter.loss_history)\n",
        "plt.xlabel(\"Epoch Number\", size=14)\n",
        "plt.ylabel(\"Loss Function\", size=14)\n",
        "plt.xticks(size=14)\n",
        "plt.yticks(size=14)\n",
        "plt.title(\"Conditional VAE Learning Curve\", size=14)\n",
        "plt.grid(visible=True, linestyle='--', linewidth=0.5, color='0.5')\n",
        "plt.show()"
      ],
      "metadata": {
        "colab": {
          "base_uri": "https://localhost:8080/",
          "height": 359
        },
        "id": "79FLeahA0qzx",
        "outputId": "f265b07a-4385-4751-8dd7-91ce8bdead2f"
      },
      "execution_count": null,
      "outputs": [
        {
          "output_type": "display_data",
          "data": {
            "text/plain": [
              "<Figure size 648x360 with 1 Axes>"
            ],
            "image/png": "[encoded data removed]"
          },
          "metadata": {
            "needs_background": "light"
          }
        }
      ]
    },
    {
      "cell_type": "markdown",
      "source": [
        "That looks better! - for toy with numbers \\\\\n",
        "That looks even worse (don't look, you'll cry....) - for toy bacteria\n",
        "\n",
        "## Generating fake data:\n",
        "\n",
        "Function for generation"
      ],
      "metadata": {
        "id": "z-rHUQnT1U4N"
      }
    },
    {
      "cell_type": "code",
      "source": [
        "def generate(decoder, y, latent_dim):\n",
        "\n",
        "    y_cond = torch.tensor(y, dtype=torch.float, device=DEVICE)\n",
        "    Z_noise = torch.normal(0, 1, (len(y), latent_dim))\n",
        "    X_fake_raw = decoder(Z_noise, y_cond)\n",
        "    X_fake = X_fake_raw.cpu().detach().numpy()\n",
        "\n",
        "    return X_fake # numpy"
      ],
      "metadata": {
        "id": "KX_eIyPW1KyS"
      },
      "execution_count": null,
      "outputs": []
    },
    {
      "cell_type": "markdown",
      "source": [
        "Generation and comparison of fake data:"
      ],
      "metadata": {
        "id": "Y6W1pCMq1pnV"
      }
    },
    {
      "cell_type": "code",
      "source": [
        "X_fake_train = generate(vae_fitter.decoder, y_train, latent_dim)\n",
        "X_fake_test = generate(vae_fitter.decoder, y_test, latent_dim)"
      ],
      "metadata": {
        "id": "FY1gXcEY1ifS"
      },
      "execution_count": null,
      "outputs": []
    },
    {
      "cell_type": "code",
      "source": [
        "plot_hists(X_train, X_fake_train, ['feature1', 'feature2'], label1=\"Real\", label2=\"Fake\", bins=50)"
      ],
      "metadata": {
        "colab": {
          "base_uri": "https://localhost:8080/",
          "height": 490
        },
        "id": "_ydSq6k91ozI",
        "outputId": "3a169405-e9ac-4644-ad8e-813bc49a525c"
      },
      "execution_count": null,
      "outputs": [
        {
          "output_type": "display_data",
          "data": {
            "text/plain": [
              "<Figure size 2880x1440 with 2 Axes>"
            ],
            "image/png": "[encoded data removed]"
          },
          "metadata": {
            "needs_background": "light"
          }
        }
      ]
    },
    {
      "cell_type": "markdown",
      "source": [
        "Looks better but still very bad....\n",
        "(comments are for toy numbers)"
      ],
      "metadata": {
        "id": "ogPFlABx2N1q"
      }
    },
    {
      "cell_type": "code",
      "source": [
        "plot_hists(X_test, X_fake_test, ['feature1', 'feature2'], label1=\"Real\", label2=\"Fake\", bins=30)"
      ],
      "metadata": {
        "colab": {
          "base_uri": "https://localhost:8080/",
          "height": 487
        },
        "id": "rAdNTx2o2NTf",
        "outputId": "4eb94bbc-3f6a-448c-f5ec-ac9fcaf550dd"
      },
      "execution_count": null,
      "outputs": [
        {
          "output_type": "display_data",
          "data": {
            "text/plain": [
              "<Figure size 2880x1440 with 2 Axes>"
            ],
            "image/png": "[encoded data removed]"
          },
          "metadata": {
            "needs_background": "light"
          }
        }
      ]
    },
    {
      "cell_type": "markdown",
      "source": [
        "## Metrics:"
      ],
      "metadata": {
        "id": "QHH9SuMr359q"
      }
    },
    {
      "cell_type": "code",
      "source": [
        "# merging datasets\n",
        "XX_train = np.concatenate((X_fake_train, X_train), axis=0)\n",
        "XX_test = np.concatenate((X_fake_test, X_test), axis=0)\n",
        "\n",
        "yy_train = np.array([0]*len(X_fake_train) + [1]*len(X_train))\n",
        "yy_test = np.array([0]*len(X_fake_test) + [1]*len(X_test))"
      ],
      "metadata": {
        "id": "Grq2fSME2CN7"
      },
      "execution_count": null,
      "outputs": []
    },
    {
      "cell_type": "code",
      "source": [
        "# training the classificator\n",
        "clf = GradientBoostingClassifier()\n",
        "clf.fit(XX_train, yy_train)\n",
        "\n",
        "# getting prognosis\n",
        "yy_test_proba = clf.predict_proba(XX_test)[:, 1]"
      ],
      "metadata": {
        "id": "igoEb1o24Qpz"
      },
      "execution_count": null,
      "outputs": []
    },
    {
      "cell_type": "code",
      "source": [
        "auc = roc_auc_score(yy_test, yy_test_proba)\n",
        "print(\"ROC AUC = \", auc)"
      ],
      "metadata": {
        "colab": {
          "base_uri": "https://localhost:8080/"
        },
        "id": "09bidBrH4uKB",
        "outputId": "3b28ad18-15ba-4f2b-99df-6907114aaf26"
      },
      "execution_count": null,
      "outputs": [
        {
          "output_type": "stream",
          "name": "stdout",
          "text": [
            "ROC AUC =  0.81734404536862\n"
          ]
        }
      ]
    },
    {
      "cell_type": "markdown",
      "source": [
        "# Hyperparameters selection"
      ],
      "metadata": {
        "id": "Ja5WYYj35j4i"
      }
    },
    {
      "cell_type": "markdown",
      "source": [
        "## For CVAE\n",
        "\n",
        "1. Batch size"
      ],
      "metadata": {
        "id": "FMufFwp56iQK"
      }
    },
    {
      "cell_type": "code",
      "source": [
        "latent_dim = 10\n",
        "\n",
        "# change accorning to the dataset size!\n",
        "# do not use bs = 8 for the bacteris toy!\n",
        "for batch_size in [8, 16, 32, 64]:\n",
        "  # training\n",
        "  encoder = Encoder(n_inputs=X_train.shape[1]+y.shape[1], lat_size=latent_dim)\n",
        "  decoder = Decoder(n_inputs=latent_dim+y.shape[1], n_outputs=X_train.shape[1])\n",
        "\n",
        "  vae_fitter = VAEFitter(encoder, decoder, batch_size, n_epochs=100, latent_dim=latent_dim, lr = 0.001, KL_weight=0.001)\n",
        "  vae_fitter.fit(X_train, y_train)\n",
        "\n",
        "  # fake matrix creating \n",
        "  X_fake_train = generate(vae_fitter.decoder, y_train, latent_dim)\n",
        "\n",
        "  # concatenating\n",
        "  XX_train = np.concatenate((X_fake_train, X_train), axis=0)\n",
        "  XX_test = np.concatenate((X_fake_test, X_test), axis=0)\n",
        "\n",
        "  yy_train = np.array([0]*len(X_fake_train) + [1]*len(X_train))\n",
        "  yy_test = np.array([0]*len(X_fake_test) + [1]*len(X_test))\n",
        "\n",
        "  # classifier\n",
        "  clf = GradientBoostingClassifier()\n",
        "  clf.fit(XX_train, yy_train)\n",
        "\n",
        "  # получаем прогнозы\n",
        "  yy_test_proba = clf.predict_proba(XX_test)[:, 1]\n",
        "\n",
        "  auc = roc_auc_score(yy_test, yy_test_proba)\n",
        "  print(\"Batch size = \", batch_size)\n",
        "  print(\"ROC AUC = \", auc)"
      ],
      "metadata": {
        "colab": {
          "base_uri": "https://localhost:8080/"
        },
        "id": "Seonqr2z5nNY",
        "outputId": "8b86a714-e873-43c1-bb4c-4ff6e9d9b003"
      },
      "execution_count": null,
      "outputs": [
        {
          "output_type": "stream",
          "name": "stdout",
          "text": [
            "Batch size =  8\n",
            "ROC AUC =  0.7561111111111112\n",
            "Batch size =  16\n",
            "ROC AUC =  0.7193055555555555\n",
            "Batch size =  32\n",
            "ROC AUC =  0.6901388888888889\n",
            "Batch size =  64\n",
            "ROC AUC =  0.6580555555555555\n"
          ]
        }
      ]
    },
    {
      "cell_type": "markdown",
      "source": [
        "2. Learning rate"
      ],
      "metadata": {
        "id": "dMVZncSD51ZC"
      }
    },
    {
      "cell_type": "markdown",
      "source": [
        "!! CHANGE BS TO 8 !!!"
      ],
      "metadata": {
        "id": "totkbWFtuU7k"
      }
    },
    {
      "cell_type": "code",
      "source": [
        "for lr in [0.05, 0.01, 0.005, 0.001, 0.0005]:\n",
        "  # training\n",
        "  encoder = Encoder(n_inputs=X_train.shape[1]+y.shape[1], lat_size=latent_dim)\n",
        "  decoder = Decoder(n_inputs=latent_dim+y.shape[1], n_outputs=X_train.shape[1])\n",
        "\n",
        "  vae_fitter = VAEFitter(encoder, decoder, lr = lr, batch_size=350, n_epochs=100, latent_dim=latent_dim, KL_weight=0.001)\n",
        "  vae_fitter.fit(X_train, y_train)\n",
        "\n",
        "  # fake matrix creating \n",
        "  X_fake_train = generate(vae_fitter.decoder, y_train, latent_dim)\n",
        "\n",
        "  # concatenating\n",
        "  XX_train = np.concatenate((X_fake_train, X_train), axis=0)\n",
        "  XX_test = np.concatenate((X_fake_test, X_test), axis=0)\n",
        "\n",
        "  yy_train = np.array([0]*len(X_fake_train) + [1]*len(X_train))\n",
        "  yy_test = np.array([0]*len(X_fake_test) + [1]*len(X_test))\n",
        "\n",
        "  # classifier\n",
        "  clf = GradientBoostingClassifier()\n",
        "  clf.fit(XX_train, yy_train)\n",
        "\n",
        "  # получаем прогнозы\n",
        "  yy_test_proba = clf.predict_proba(XX_test)[:, 1]\n",
        "\n",
        "  auc = roc_auc_score(yy_test, yy_test_proba)\n",
        "  print(\"Learning rate = \", lr)\n",
        "  print(\"ROC AUC = \", auc)"
      ],
      "metadata": {
        "colab": {
          "base_uri": "https://localhost:8080/"
        },
        "id": "-fmYQebK51nv",
        "outputId": "d6d95746-0fdb-4c50-da3f-3f9f31e59bc4"
      },
      "execution_count": null,
      "outputs": [
        {
          "output_type": "stream",
          "name": "stdout",
          "text": [
            "Learning rate =  0.05\n",
            "ROC AUC =  0.776388888888889\n",
            "Learning rate =  0.01\n",
            "ROC AUC =  0.6295833333333333\n",
            "Learning rate =  0.005\n",
            "ROC AUC =  0.5902777777777778\n",
            "Learning rate =  0.001\n",
            "ROC AUC =  0.6244444444444445\n",
            "Learning rate =  0.0005\n",
            "ROC AUC =  0.6215277777777778\n"
          ]
        }
      ]
    },
    {
      "cell_type": "markdown",
      "source": [
        "## For CWGAN:"
      ],
      "metadata": {
        "id": "OX706Djr6aBF"
      }
    },
    {
      "cell_type": "code",
      "source": [
        "def generate_wgan(generator, y, latent_dim):\n",
        "\n",
        "    y_cond = torch.tensor(y, dtype=torch.float, device=DEVICE)\n",
        "    Z_noise = torch.normal(0, 1, (len(y), latent_dim))\n",
        "    X_fake_raw = generator(Z_noise, y_cond)\n",
        "    X_fake = X_fake_raw.cpu().detach().numpy()\n",
        "\n",
        "    return X_fake # numpy"
      ],
      "metadata": {
        "id": "R1U6UIj57d6M"
      },
      "execution_count": null,
      "outputs": []
    },
    {
      "cell_type": "code",
      "source": [
        "for batch_size in [8, 16, 32]:\n",
        "  # training\n",
        "  generator     = Generator(n_inputs=latent_dim+y.shape[1], \n",
        "                            n_outputs=X_train.shape[1])\n",
        "  discriminator = Discriminator(n_inputs=X_train.shape[1]+y.shape[1])\n",
        "\n",
        "  fitter = Fitter(generator, discriminator, batch_size=batch_size, n_epochs=100, latent_dim=latent_dim, lr=0.0001, n_critic=5)\n",
        "  fitter.fit(X_train, y_train)\n",
        "\n",
        "  # fake matrix creating \n",
        "  X_fake_train = generate_wgan(fitter.generator, y_train, latent_dim)\n",
        "\n",
        "  # concatenating\n",
        "  XX_train = np.concatenate((X_fake_train, X_train), axis=0)\n",
        "  XX_test = np.concatenate((X_fake_test, X_test), axis=0)\n",
        "\n",
        "  yy_train = np.array([0]*len(X_fake_train) + [1]*len(X_train))\n",
        "  yy_test = np.array([0]*len(X_fake_test) + [1]*len(X_test))\n",
        "\n",
        "  # classifier\n",
        "  clf = GradientBoostingClassifier()\n",
        "  clf.fit(XX_train, yy_train)\n",
        "\n",
        "  # получаем прогнозы\n",
        "  yy_test_proba = clf.predict_proba(XX_test)[:, 1]\n",
        "\n",
        "  auc = roc_auc_score(yy_test, yy_test_proba)\n",
        "  print(\"Batch size = \", batch_size)\n",
        "  print(\"ROC AUC = \", auc)"
      ],
      "metadata": {
        "colab": {
          "base_uri": "https://localhost:8080/"
        },
        "id": "rSqJwNmq7G6b",
        "outputId": "ae7bff8f-ff39-4ac7-c789-f35f5fe2284d"
      },
      "execution_count": null,
      "outputs": [
        {
          "output_type": "stream",
          "name": "stdout",
          "text": [
            "Batch size =  8\n",
            "ROC AUC =  0.7793055555555556\n",
            "Batch size =  16\n",
            "ROC AUC =  0.5629166666666666\n",
            "Batch size =  32\n",
            "ROC AUC =  0.7019444444444444\n"
          ]
        }
      ]
    },
    {
      "cell_type": "code",
      "source": [
        "for lr in [0.05, 0.01, 0.005, 0.001, 0.0005]:\n",
        "  # training\n",
        "  generator     = Generator(n_inputs=latent_dim+y.shape[1], \n",
        "                            n_outputs=X_train.shape[1])\n",
        "  discriminator = Discriminator(n_inputs=X_train.shape[1]+y.shape[1])\n",
        "\n",
        "  fitter = Fitter(generator, discriminator, batch_size=300, n_epochs=100, latent_dim=latent_dim, lr=lr, n_critic=5)\n",
        "  fitter.fit(X_train, y_train)\n",
        "\n",
        "  # fake matrix creating \n",
        "  X_fake_train = generate_wgan(fitter.generator, y_train, latent_dim)\n",
        "\n",
        "  # concatenating\n",
        "  XX_train = np.concatenate((X_fake_train, X_train), axis=0)\n",
        "  XX_test = np.concatenate((X_fake_test, X_test), axis=0)\n",
        "\n",
        "  yy_train = np.array([0]*len(X_fake_train) + [1]*len(X_train))\n",
        "  yy_test = np.array([0]*len(X_fake_test) + [1]*len(X_test))\n",
        "\n",
        "  # classifier\n",
        "  clf = GradientBoostingClassifier()\n",
        "  clf.fit(XX_train, yy_train)\n",
        "\n",
        "  # получаем прогнозы\n",
        "  yy_test_proba = clf.predict_proba(XX_test)[:, 1]\n",
        "\n",
        "  auc = roc_auc_score(yy_test, yy_test_proba)\n",
        "  print(\"Learning rate = \", lr)\n",
        "  print(\"ROC AUC = \", auc)"
      ],
      "metadata": {
        "colab": {
          "base_uri": "https://localhost:8080/"
        },
        "id": "9KSL6ijt7HS8",
        "outputId": "04d50566-d184-4ff0-adad-5967a4c18756"
      },
      "execution_count": null,
      "outputs": [
        {
          "output_type": "stream",
          "name": "stdout",
          "text": [
            "Learning rate =  0.05\n",
            "ROC AUC =  0.7698611111111111\n",
            "Learning rate =  0.01\n",
            "ROC AUC =  0.7295833333333333\n",
            "Learning rate =  0.005\n",
            "ROC AUC =  0.6291666666666667\n",
            "Learning rate =  0.001\n",
            "ROC AUC =  0.7379166666666667\n",
            "Learning rate =  0.0005\n",
            "ROC AUC =  0.6023611111111111\n"
          ]
        }
      ]
    },
    {
      "cell_type": "markdown",
      "source": [
        "# TODO:\n",
        "\n",
        "* add condition that sum(abundancies) = 1!\n",
        "* how to decode back to bacteria names... (I mean, I know, but have to implement it + I have a feeling that nothing will match :))\n",
        "* try normalizing flows\n",
        "* make better hyperparameters selection\n",
        "* try with OHE\n",
        "* how to interpret abundancies < 0?...\n",
        "* change loss function: e.g to 0-1 linear, >1 exp (fast growing)\n",
        "* fix bacteria array and predict only abundancies\n",
        "* try cos metrix"
      ],
      "metadata": {
        "id": "EBQlodoV5KVn"
      }
    },
    {
      "cell_type": "code",
      "source": [],
      "metadata": {
        "id": "UMEFKXRvYuaM"
      },
      "execution_count": null,
      "outputs": []
    }
  ]
}